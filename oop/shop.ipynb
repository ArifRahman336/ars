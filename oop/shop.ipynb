{
 "cells": [
  {
   "cell_type": "code",
   "execution_count": 6,
   "metadata": {},
   "outputs": [
    {
     "name": "stdout",
     "output_type": "stream",
     "text": [
      "Product: Chanachur, Price: 10, Origin: BD, Code: 1002\n"
     ]
    }
   ],
   "source": [
    "class Product:\n",
    "    def __init__(self,name,price,origin) -> None:\n",
    "        self.name = name\n",
    "        self.price = price\n",
    "        self.origin = origin\n",
    "class Shop(Product):\n",
    "    def __init__(self,name,price,origin,code):\n",
    "        self.code = code\n",
    "        super().__init__(name,price,origin)\n",
    "    def __repr__(self) -> str:\n",
    "        return f'Product: {self.name}, Price: {self.price}, Origin: {self.origin}, Code: {self.code}'\n",
    "mamar_dokan = Shop('Lichi Drinks',10,'BD',1001)\n",
    "mamar_dokan = Shop('Chanachur',10,'BD',1002)\n",
    "print(mamar_dokan)\n"
   ]
  },
  {
   "cell_type": "code",
   "execution_count": 26,
   "metadata": {},
   "outputs": [
    {
     "name": "stdout",
     "output_type": "stream",
     "text": [
      "Products available in the shop:\n",
      "Product(Name: parata, Price: 10, Origin: BD, code: 101)\n"
     ]
    }
   ],
   "source": [
    "class Product:\n",
    "    def __init__(self,name,price,origin,code) -> None:\n",
    "        self.name = name\n",
    "        self.price = price\n",
    "        self.origin = origin\n",
    "        self.code = code\n",
    "    def __repr__(self) -> str:\n",
    "        return f'Product(Name: {self.name}, Price: {self.price}, Origin: {self.origin}, code: {self.code})'\n",
    "class Shop:\n",
    "    \n",
    "    def __init__(self,name) -> None:\n",
    "        self.name = name\n",
    "        self.products = []\n",
    "\n",
    "    def add_product(self,name,price,origin,code):\n",
    "        code = len(self.products)+101\n",
    "        product = Product(name,price,origin,code)\n",
    "        self.products.append(product)\n",
    "\n",
    "    def display_products(self):\n",
    "        if self.products:\n",
    "            for product in self.products:\n",
    "                print(product)\n",
    "        else:\n",
    "            print('No product in the shop')\n",
    "\n",
    "    def buy_product(self,product_name):\n",
    "        for product in self.products:\n",
    "            if product.name == product_name:\n",
    "                self.products.remove(product)\n",
    "                print(f'Congratulations! You have successfully bought {product_name}.')\n",
    "            else:\n",
    "                  print(f\"Sorry, {product_name} is not available in the shop.\")\n",
    "\n",
    "shop = Shop('Mamar_dokan')\n",
    "\n",
    "shop.add_product('Lichi Drinks', 10, 'BD',1)\n",
    "shop.add_product('Apple Juice', 15, 'USA',2)\n",
    "\n",
    "shop1 = Shop('Yummy')\n",
    "shop1.add_product('parata',10,'BD',True)\n",
    "print(\"Products available in the shop:\")\n",
    "shop1.display_products()\n",
    "\n",
    "print(\"\\nTrying to buy 'Lichi Drinks':\")\n",
    "shop.buy_product('Lichi Drinks')\n",
    "\n",
    "print(\"\\nTrying to buy 'Mango Juice':\")\n",
    "shop.buy_product('Mango Juice')\n",
    "\n",
    "print(\"\\nProducts remaining in the shop:\")\n",
    "shop.display_products()"
   ]
  },
  {
   "cell_type": "code",
   "execution_count": 28,
   "metadata": {},
   "outputs": [
    {
     "name": "stdout",
     "output_type": "stream",
     "text": [
      "Product(Name: lichi, Price: 10, Origin: BD, code: 1)\n",
      "500\n"
     ]
    }
   ],
   "source": [
    "class Shop:\n",
    "    def __init__(self,name):\n",
    "        self.name = name\n",
    "        self.products = []\n",
    "        self.__balance = 500\n",
    "\n",
    "    def __repr__(self) -> str:\n",
    "        return f'This shop name is: {self.name}'\n",
    "    \n",
    "    def add_products(self,name,price,origin,code):\n",
    "        product = Product(name,price,origin,code)\n",
    "        self.products.append(product)\n",
    "    \n",
    "    def sell(self,product):\n",
    "        self.balance = product.price\n",
    "    \n",
    "    def get_balance(self):\n",
    "        return self.__balance\n",
    "    \n",
    "    def display_products(self):\n",
    "        if self.products:\n",
    "            for product in self.products:\n",
    "                print(product)\n",
    "        else:\n",
    "            print('No product in the shop')\n",
    "\n",
    "class Product:\n",
    "    def __init__(self,name,price,origin,code) -> None:\n",
    "        self.name = name\n",
    "        self.price = price\n",
    "        self.origin = origin\n",
    "        self.code = code\n",
    "    def __repr__(self) -> str:\n",
    "        return f'Product(Name: {self.name}, Price: {self.price}, Origin: {self.origin}, code: {self.code})'\n",
    "\n",
    "shop = Shop('EKOTA')\n",
    "\n",
    "shop.add_products('lichi',10,'BD',1)\n",
    "shop.display_products()\n",
    "print(shop.get_balance())"
   ]
  }
 ],
 "metadata": {
  "kernelspec": {
   "display_name": "Python 3",
   "language": "python",
   "name": "python3"
  },
  "language_info": {
   "codemirror_mode": {
    "name": "ipython",
    "version": 3
   },
   "file_extension": ".py",
   "mimetype": "text/x-python",
   "name": "python",
   "nbconvert_exporter": "python",
   "pygments_lexer": "ipython3",
   "version": "3.12.6"
  }
 },
 "nbformat": 4,
 "nbformat_minor": 2
}
