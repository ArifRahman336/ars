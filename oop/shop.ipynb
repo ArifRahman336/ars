{
 "cells": [
  {
   "cell_type": "code",
   "execution_count": null,
   "metadata": {},
   "outputs": [],
   "source": [
    "class Product:\n",
    "    def __init__(self,name,price,origin) -> None:\n",
    "        self.name = name\n",
    "        self.price = price\n",
    "        self.origin = origin\n",
    "class Shop(Product):\n",
    "    def add_product(self,name,price,origin,code):\n",
    "        self.code = code\n",
    "        super().__init__(name,price,origin)\n",
    "    "
   ]
  }
 ],
 "metadata": {
  "language_info": {
   "name": "python"
  }
 },
 "nbformat": 4,
 "nbformat_minor": 2
}
