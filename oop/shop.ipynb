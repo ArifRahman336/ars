{
 "cells": [
  {
   "cell_type": "code",
   "execution_count": 6,
   "metadata": {},
   "outputs": [
    {
     "name": "stdout",
     "output_type": "stream",
     "text": [
      "Product: Chanachur, Price: 10, Origin: BD, Code: 1002\n"
     ]
    }
   ],
   "source": [
    "class Product:\n",
    "    def __init__(self,name,price,origin) -> None:\n",
    "        self.name = name\n",
    "        self.price = price\n",
    "        self.origin = origin\n",
    "class Shop(Product):\n",
    "    def __init__(self,name,price,origin,code):\n",
    "        self.code = code\n",
    "        super().__init__(name,price,origin)\n",
    "    def __repr__(self) -> str:\n",
    "        return f'Product: {self.name}, Price: {self.price}, Origin: {self.origin}, Code: {self.code}'\n",
    "mamar_dokan = Shop('Lichi Drinks',10,'BD',1001)\n",
    "mamar_dokan = Shop('Chanachur',10,'BD',1002)\n",
    "print(mamar_dokan)\n"
   ]
  },
  {
   "cell_type": "code",
   "execution_count": null,
   "metadata": {},
   "outputs": [],
   "source": [
    "class Product:\n",
    "    def __init__(self,name,price,origin,code) -> None:\n",
    "        self.name = name\n",
    "        self.price = price\n",
    "        self.origin = origin\n",
    "        self.code = code\n",
    "    def __repr__(self) -> str:\n",
    "        return f'Product(Name: {self.name}, Price: {self.price}, Origin: {self.origin} code: {self.code})'\n",
    "class Shop:\n",
    "    def __init__(self,name) -> None:\n",
    "        self.name = name\n",
    "        self.products = []\n",
    "\n",
    "    def add_product(self,name,price,origin):\n",
    "        product = Product(name,price,origin)\n",
    "        self.products.append(product)\n",
    "\n",
    "    def display_products(self):\n",
    "        if self.products:\n",
    "            for product in self.products:\n",
    "                print(product)\n",
    "        else:\n",
    "            print('No product in the shop')"
   ]
  }
 ],
 "metadata": {
  "kernelspec": {
   "display_name": "Python 3",
   "language": "python",
   "name": "python3"
  },
  "language_info": {
   "codemirror_mode": {
    "name": "ipython",
    "version": 3
   },
   "file_extension": ".py",
   "mimetype": "text/x-python",
   "name": "python",
   "nbconvert_exporter": "python",
   "pygments_lexer": "ipython3",
   "version": "3.12.6"
  }
 },
 "nbformat": 4,
 "nbformat_minor": 2
}
