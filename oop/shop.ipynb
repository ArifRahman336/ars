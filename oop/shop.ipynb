{
 "cells": [
  {
   "cell_type": "code",
   "execution_count": 4,
   "metadata": {},
   "outputs": [
    {
     "name": "stdout",
     "output_type": "stream",
     "text": [
      "Product: Lichi Drinks, Price: 10, Origin: BD, Code: 1001\n"
     ]
    }
   ],
   "source": [
    "class Product:\n",
    "    def __init__(self,name,price,origin) -> None:\n",
    "        self.name = name\n",
    "        self.price = price\n",
    "        self.origin = origin\n",
    "class Shop(Product):\n",
    "    def __init__(self,name,price,origin,code):\n",
    "        self.code = code\n",
    "        super().__init__(name,price,origin)\n",
    "    def __repr__(self) -> str:\n",
    "        return f'Product: {self.name}, Price: {self.price}, Origin: {self.origin}, Code: {self.code}'\n",
    "mamar_dokan = Shop('Lichi Drinks',10,'BD',1001)\n",
    "print(mamar_dokan)\n"
   ]
  }
 ],
 "metadata": {
  "kernelspec": {
   "display_name": "Python 3",
   "language": "python",
   "name": "python3"
  },
  "language_info": {
   "codemirror_mode": {
    "name": "ipython",
    "version": 3
   },
   "file_extension": ".py",
   "mimetype": "text/x-python",
   "name": "python",
   "nbconvert_exporter": "python",
   "pygments_lexer": "ipython3",
   "version": "3.12.6"
  }
 },
 "nbformat": 4,
 "nbformat_minor": 2
}
